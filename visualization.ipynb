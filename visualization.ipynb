{
 "metadata": {
  "language_info": {
   "codemirror_mode": {
    "name": "ipython",
    "version": 3
   },
   "file_extension": ".py",
   "mimetype": "text/x-python",
   "name": "python",
   "nbconvert_exporter": "python",
   "pygments_lexer": "ipython3",
   "version": "3.8.5-final"
  },
  "orig_nbformat": 2,
  "kernelspec": {
   "name": "python38564bitbe64631982d24ffbb2f77ea698e3ac22",
   "display_name": "Python 3.8.5 64-bit",
   "language": "python"
  }
 },
 "nbformat": 4,
 "nbformat_minor": 2,
 "cells": [
  {
   "cell_type": "code",
   "execution_count": 1,
   "metadata": {},
   "outputs": [],
   "source": [
    "import numpy as np\n",
    "import seaborn as sns\n",
    "import matplotlib.pyplot as plt\n",
    "import mayavi.mlab as mlab\n",
    "import moviepy.editor as mpy\n",
    "from skimage import io\n",
    "import imageio\n",
    "import matplotlib.image as mpimg\n",
    "from matplotlib.lines import Line2D\n",
    "from matplotlib.patches import Rectangle\n",
    "from tqdm.notebook import trange, tqdm\n"
   ]
  },
  {
   "cell_type": "code",
   "execution_count": 2,
   "metadata": {},
   "outputs": [],
   "source": [
    "colors = sns.color_palette('Paired', 9 * 2)\n",
    "names = ['Car', 'Van', 'Truck', 'Pedestrian', 'Person_sitting', 'Cyclist', 'Tram', 'Misc', 'DontCare']\n",
    "\n",
    "N_SAMPLES = 160"
   ]
  },
  {
   "source": [
    "3d bounding box to point cloud"
   ],
   "cell_type": "markdown",
   "metadata": {}
  },
  {
   "source": [
    "<img src=\"images/pc/000101_labels.png\" width=\"750\" align=\"center\">"
   ],
   "cell_type": "markdown",
   "metadata": {}
  },
  {
   "cell_type": "code",
   "execution_count": 3,
   "metadata": {},
   "outputs": [],
   "source": [
    "%%capture out\n",
    "\n",
    "id = 0\n",
    "\n",
    "def make_frame(t):\n",
    "    global id\n",
    "    file_id = f'{id:06}'\n",
    "    \n",
    "    # load point clouds\n",
    "    scan_dir = f'gta/training/velodyne/{file_id}.bin'\n",
    "    scan = np.fromfile(scan_dir, dtype=np.float32).reshape(-1, 4)\n",
    "\n",
    "    # load labels\n",
    "    label_dir = f'gta/training/label_2/{file_id}.txt'\n",
    "    with open(label_dir, 'r') as f:\n",
    "        labels = f.readlines()\n",
    "\n",
    "        fig = mlab.figure(bgcolor=(0, 0, 0), size=(1280, 720))\n",
    "        # draw point cloud\n",
    "        plot = mlab.points3d(scan[:, 0], scan[:, 1], scan[:, 2], mode=\"point\", figure=fig)\n",
    "\n",
    "    for line in labels:\n",
    "        line = line.split()\n",
    "        lab, _, _, _, _, _, _, _, h, w, l, x, y, z, rot = line\n",
    "        h, w, l, x, y, z, rot = map(float, [h, w, l, x, y, z, rot])\n",
    "        if lab != 'DontCare':\n",
    "            x_corners = [l / 2, l / 2, -l / 2, -l / 2, l / 2, l / 2, -l / 2, -l / 2]\n",
    "            y_corners = [0, 0, 0, 0, -h, -h, -h, -h]\n",
    "            z_corners = [w / 2, -w / 2, -w / 2, w / 2, w / 2, -w / 2, -w / 2, w / 2]\n",
    "            corners_3d = np.vstack([x_corners, y_corners, z_corners])  # (3, 8)\n",
    "\n",
    "            # transform the 3d bbox from object coordiante to camera_0 coordinate\n",
    "            R = np.array([[np.cos(rot), 0, np.sin(rot)],\n",
    "                            [0, 1, 0],\n",
    "                            [-np.sin(rot), 0, np.cos(rot)]])\n",
    "            corners_3d = np.dot(R, corners_3d).T + np.array([x, y, z])\n",
    "\n",
    "            # transform the 3d bbox from camera_0 coordinate to velodyne coordinate\n",
    "            corners_3d = corners_3d[:, [2, 0, 1]] * np.array([[1, -1, -1]])\n",
    "\n",
    "\n",
    "            def draw(p1, p2, front=1):\n",
    "                mlab.plot3d([p1[0], p2[0]], [p1[1], p2[1]], [p1[2], p2[2]],\n",
    "                            color=colors[names.index(lab) * 2 + front],\n",
    "                            tube_radius=None, line_width=2, figure=fig)\n",
    "\n",
    "\n",
    "            # draw the upper 4 horizontal lines\n",
    "            draw(corners_3d[0], corners_3d[1], 0)  # front = 0 for the front lines\n",
    "            draw(corners_3d[1], corners_3d[2])\n",
    "            draw(corners_3d[2], corners_3d[3])\n",
    "            draw(corners_3d[3], corners_3d[0])\n",
    "\n",
    "            # draw the lower 4 horizontal lines\n",
    "            draw(corners_3d[4], corners_3d[5], 0)\n",
    "            draw(corners_3d[5], corners_3d[6])\n",
    "            draw(corners_3d[6], corners_3d[7])\n",
    "            draw(corners_3d[7], corners_3d[4])\n",
    "\n",
    "            # draw the 4 vertical lines\n",
    "            draw(corners_3d[4], corners_3d[0], 0)\n",
    "            draw(corners_3d[5], corners_3d[1], 0)\n",
    "            draw(corners_3d[6], corners_3d[2])\n",
    "            draw(corners_3d[7], corners_3d[3])\n",
    "\n",
    "    mlab.view(azimuth=180, elevation=60, distance=100, focalpoint=(0,0,0))\n",
    "    mlab.savefig(filename=f'images/pc/{file_id}_labels.png')\n",
    "    screenshot = mlab.screenshot(antialiased=True) # return a RGB image\n",
    "    mlab.close()\n",
    "    id = id + 1\n",
    "    return screenshot;"
   ]
  },
  {
   "cell_type": "code",
   "execution_count": 4,
   "metadata": {},
   "outputs": [],
   "source": [
    "%%capture out\n",
    "\n",
    "id = 0\n",
    "fps = 2\n",
    "\n",
    "animation = mpy.VideoClip(make_frame, duration=N_SAMPLES/fps)\n",
    "animation.write_gif(\"gif/pc.gif\", fps=fps)"
   ]
  },
  {
   "cell_type": "code",
   "execution_count": null,
   "metadata": {},
   "outputs": [],
   "source": []
  },
  {
   "source": [
    "kitti_3dbox_to_img"
   ],
   "cell_type": "markdown",
   "metadata": {}
  },
  {
   "source": [
    "<img src=\"images/camera/000101_3dbox_img.png\" width=\"750\" align=\"center\">"
   ],
   "cell_type": "markdown",
   "metadata": {}
  },
  {
   "cell_type": "code",
   "execution_count": 5,
   "metadata": {},
   "outputs": [],
   "source": [
    "%%capture out\n",
    "\n",
    "def kitti_3dbox_to_img(id):\n",
    "    \n",
    "    file_id = f'{id:06}'\n",
    "\n",
    "    # load image\n",
    "    img = np.array(io.imread(f'gta/training/image_2/{file_id}.png'), dtype=np.int32)\n",
    "\n",
    "    # load labels\n",
    "    with open(f'gta/training/label_2/{file_id}.txt', 'r') as f:\n",
    "        labels = f.readlines()\n",
    "\n",
    "    # load calibration file\n",
    "    with open(f'gta/training/calib/{file_id}.txt', 'r') as f:\n",
    "        lines = f.readlines()\n",
    "        P2 = np.array(lines[2].strip().split(' ')[1:], dtype=np.float32).reshape(3, 4)\n",
    "\n",
    "    fig = plt.figure()\n",
    "    # draw image\n",
    "    plt.imshow(img)\n",
    "\n",
    "    for line in labels:\n",
    "        line = line.split()\n",
    "        lab, _, _, _, _, _, _, _, h, w, l, x, y, z, rot = line\n",
    "        h, w, l, x, y, z, rot = map(float, [h, w, l, x, y, z, rot])\n",
    "        if lab != 'DontCare':\n",
    "            x_corners = [l / 2, l / 2, -l / 2, -l / 2, l / 2, l / 2, -l / 2, -l / 2]\n",
    "            y_corners = [0, 0, 0, 0, -h, -h, -h, -h]\n",
    "            z_corners = [w / 2, -w / 2, -w / 2, w / 2, w / 2, -w / 2, -w / 2, w / 2]\n",
    "            corners_3d = np.vstack([x_corners, y_corners, z_corners])  # (3, 8)\n",
    "\n",
    "            # transform the 3d bbox from object coordiante to camera_0 coordinate\n",
    "            R = np.array([[np.cos(rot), 0, np.sin(rot)],\n",
    "                            [0, 1, 0],\n",
    "                            [-np.sin(rot), 0, np.cos(rot)]])\n",
    "            corners_3d = np.dot(R, corners_3d).T + np.array([x, y, z])\n",
    "\n",
    "            # transform the 3d bbox from camera_0 coordinate to camera_x image\n",
    "            corners_3d_hom = np.concatenate((corners_3d, np.ones((8, 1))), axis=1)\n",
    "            corners_img = np.matmul(corners_3d_hom, P2.T)\n",
    "            corners_img = corners_img[:, :2] / corners_img[:, 2][:, None]\n",
    "\n",
    "\n",
    "            def line(p1, p2, front=1):\n",
    "                plt.gca().add_line(Line2D((p1[0], p2[0]), (p1[1], p2[1]), color=colors[names.index(lab) * 2 + front]))\n",
    "\n",
    "\n",
    "            # draw the upper 4 horizontal lines\n",
    "            line(corners_img[0], corners_img[1], 0)  # front = 0 for the front lines\n",
    "            line(corners_img[1], corners_img[2])\n",
    "            line(corners_img[2], corners_img[3])\n",
    "            line(corners_img[3], corners_img[0])\n",
    "\n",
    "            # draw the lower 4 horizontal lines\n",
    "            line(corners_img[4], corners_img[5], 0)\n",
    "            line(corners_img[5], corners_img[6])\n",
    "            line(corners_img[6], corners_img[7])\n",
    "            line(corners_img[7], corners_img[4])\n",
    "\n",
    "            # draw the 4 vertical lines\n",
    "            line(corners_img[4], corners_img[0], 0)\n",
    "            line(corners_img[5], corners_img[1], 0)\n",
    "            line(corners_img[6], corners_img[2])\n",
    "            line(corners_img[7], corners_img[3])\n",
    "\n",
    "    # fig.patch.set_visible(False)\n",
    "    plt.axis('off')\n",
    "    plt.tight_layout()\n",
    "    plt.savefig(f'images/camera/3dboxes/{file_id}_3dbox_img.png', bbox_inches='tight');\n",
    "    #plt.show()"
   ]
  },
  {
   "cell_type": "code",
   "execution_count": 6,
   "metadata": {},
   "outputs": [],
   "source": [
    "%%capture out\n",
    "\n",
    "for i in trange(N_SAMPLES):\n",
    "    kitti_3dbox_to_img(i)"
   ]
  },
  {
   "cell_type": "code",
   "execution_count": 7,
   "metadata": {},
   "outputs": [
    {
     "output_type": "display_data",
     "data": {
      "text/plain": "HBox(children=(HTML(value=''), FloatProgress(value=0.0, max=160.0), HTML(value='')))",
      "application/vnd.jupyter.widget-view+json": {
       "version_major": 2,
       "version_minor": 0,
       "model_id": "8be1c5a921aa44399fda143c310648ff"
      }
     },
     "metadata": {}
    },
    {
     "output_type": "stream",
     "name": "stdout",
     "text": [
      "\n"
     ]
    }
   ],
   "source": [
    "fps = 2\n",
    "\n",
    "images = []\n",
    "for file_id in trange(N_SAMPLES):\n",
    "    filename = f'images/camera/3dboxes/{file_id:06}_3dbox_img.png'\n",
    "    images.append(imageio.imread(filename))\n",
    "\n",
    "imageio.mimsave('gif/3dboxes.gif', images, fps=fps)"
   ]
  },
  {
   "source": [
    "cloud2img"
   ],
   "cell_type": "markdown",
   "metadata": {}
  },
  {
   "source": [
    "<img src=\"images/camera/000101_overlap.png\" width=\"750\" align=\"center\">"
   ],
   "cell_type": "markdown",
   "metadata": {}
  },
  {
   "cell_type": "code",
   "execution_count": 8,
   "metadata": {},
   "outputs": [],
   "source": [
    "%%capture out\n",
    "\n",
    "def cloud2img(id):\n",
    "    file_id = f'{id:06}'\n",
    "\n",
    "    # load point clouds\n",
    "    scan_dir = f'gta/training/velodyne/{file_id}.bin'\n",
    "    scan = np.fromfile(scan_dir, dtype=np.float32).reshape(-1, 4)\n",
    "\n",
    "    # load image\n",
    "    img = np.array(io.imread(f'gta/training/image_2/{file_id}.png'), dtype=np.int32)\n",
    "\n",
    "    # load labels\n",
    "    with open(f'gta/training/label_2/{file_id}.txt', 'r') as f:\n",
    "        labels = f.readlines()\n",
    "\n",
    "    # load calibration file\n",
    "    with open(f'gta/training/calib/{file_id}.txt', 'r') as f:\n",
    "        lines = f.readlines()\n",
    "        P2 = np.array(lines[2].strip().split(' ')[1:], dtype=np.float32).reshape(3, 4)\n",
    "        R0 = np.array(lines[4].strip().split(' ')[1:], dtype=np.float32).reshape(3, 3)\n",
    "        V2C = np.array(lines[5].strip().split(' ')[1:], dtype=np.float32).reshape(3, 4)\n",
    "\n",
    "    fig = plt.figure(figsize=(12, 6))\n",
    "    # draw image\n",
    "    plt.imshow(img)\n",
    "\n",
    "    # transform the pointcloud from velodyne coordiante to camera_0 coordinate\n",
    "    scan_hom = np.hstack((scan[:, :3], np.ones((scan.shape[0], 1), dtype=np.float32))) # [N, 4]\n",
    "    scan_C0 = np.dot(scan_hom, np.dot(V2C.T, R0.T)) # [N, 3]\n",
    "\n",
    "    # transform the pointcloud from camera_0 coordinate to camera_2 coordinate\n",
    "    scan_C0_hom = np.hstack((scan_C0, np.ones((scan.shape[0], 1), dtype=np.float32))) # [N, 4]\n",
    "    scan_C2 = np.dot(scan_C0_hom, P2.T) # [N, 3]\n",
    "    scan_C2_depth = scan_C2[:, 2]\n",
    "    scan_C2 = (scan_C2[:, :2].T / scan_C2[:, 2]).T\n",
    "\n",
    "    # remove points outside the image\n",
    "    inds = scan_C2[:, 0] > 0\n",
    "    inds = np.logical_and(inds, scan_C2[:, 0] < img.shape[1])\n",
    "    inds = np.logical_and(inds, scan_C2[:, 1] > 0)\n",
    "    inds = np.logical_and(inds, scan_C2[:, 1] < img.shape[0])\n",
    "    inds = np.logical_and(inds, scan_C2_depth > 0)\n",
    "\n",
    "    plt.scatter(scan_C2[inds, 0], scan_C2[inds, 1], c=-scan_C2_depth[inds], alpha=0.5, s=1, cmap='viridis')\n",
    "\n",
    "    # fig.patch.set_visible(False)\n",
    "    plt.axis('off')\n",
    "    plt.tight_layout()\n",
    "    plt.savefig(f'images/camera/overlap/{file_id}_overlap.png', bbox_inches='tight');\n",
    "    #plt.show()"
   ]
  },
  {
   "cell_type": "code",
   "execution_count": 10,
   "metadata": {},
   "outputs": [],
   "source": [
    "%%capture out\n",
    "\n",
    "for i in trange(N_SAMPLES):\n",
    "    cloud2img(i)"
   ]
  },
  {
   "cell_type": "code",
   "execution_count": 11,
   "metadata": {},
   "outputs": [
    {
     "output_type": "display_data",
     "data": {
      "text/plain": "HBox(children=(HTML(value=''), FloatProgress(value=0.0, max=160.0), HTML(value='')))",
      "application/vnd.jupyter.widget-view+json": {
       "version_major": 2,
       "version_minor": 0,
       "model_id": "497760ad22f8490db4a174e00c21a3ae"
      }
     },
     "metadata": {}
    },
    {
     "output_type": "stream",
     "name": "stdout",
     "text": [
      "\n"
     ]
    }
   ],
   "source": [
    "fps = 2\n",
    "\n",
    "images = []\n",
    "for file_id in trange(N_SAMPLES):\n",
    "    filename = f'images/camera/overlap/{file_id:06}_overlap.png'\n",
    "    images.append(imageio.imread(filename))\n",
    "\n",
    "imageio.mimsave('gif/overlap.gif', images, fps=fps)"
   ]
  },
  {
   "source": [
    "<img src=\"gif/pc.gif\" width=\"750\" align=\"center\">\n",
    "<img src=\"gif/3dboxes.gif\" width=\"750\" align=\"center\">\n",
    "<img src=\"gif/overlap.gif\" width=\"750\" align=\"center\">"
   ],
   "cell_type": "markdown",
   "metadata": {}
  }
 ]
}